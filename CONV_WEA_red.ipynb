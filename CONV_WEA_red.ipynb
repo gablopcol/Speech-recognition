{
 "cells": [
  {
   "cell_type": "code",
   "execution_count": 1,
   "id": "1db3e743",
   "metadata": {},
   "outputs": [],
   "source": [
    "import json\n",
    "import numpy as np\n",
    "import tensorflow as tf\n",
    "import matplotlib.pyplot as plt\n",
    "from sklearn.model_selection import train_test_split"
   ]
  },
  {
   "cell_type": "code",
   "execution_count": 2,
   "id": "365fa6c6",
   "metadata": {},
   "outputs": [],
   "source": [
    "def plot_history(history):\n",
    "    \"\"\"Plots accuracy/loss for training/validation set as a function of the epochs\n",
    "    :param history: Training history of model\n",
    "    :return:\n",
    "    \"\"\"\n",
    "    \n",
    "    # create accuracy subplot\n",
    "    plt.figure()\n",
    "    plt.plot(history.history[\"accuracy\"], label=\"accuracy\")\n",
    "    plt.plot(history.history['val_accuracy'], label=\"validation accuracy\")\n",
    "    plt.xlabel(\"Epoch\")\n",
    "    plt.ylabel(\"Accuracy\")\n",
    "    plt.legend(loc=\"lower right\")\n",
    "    #plt.title(\"Accuracy evaluation\")\n",
    "    plt.show()\n",
    "    # create loss subplot\n",
    "    plt.figure()\n",
    "    plt.plot(history.history[\"loss\"], label=\"loss\")\n",
    "    plt.plot(history.history['val_loss'], label=\"validation loss\")\n",
    "    plt.xlabel(\"Epoch\")\n",
    "    plt.ylabel(\"Loss\")\n",
    "    plt.legend(loc=\"upper right\")\n",
    "    #plt.title(\"Loss evaluation\")\n",
    "    plt.show()\n",
    "    \n",
    "def load_data(data_path):\n",
    "    \"\"\"Loads training dataset from json file.\n",
    "    :param data_path (str): Path to json file containing data\n",
    "    :return X (ndarray): Inputs\n",
    "    :return y (ndarray): Targets\n",
    "    \"\"\"\n",
    "    with open(data_path, \"r\") as fp:\n",
    "        data = json.load(fp)\n",
    "        \n",
    "    X = np.array(data[\"MFCCs\"])\n",
    "    y = np.array(data[\"labels\"])\n",
    "    print(\"Training sets loaded!\")\n",
    "    return X, y\n",
    "\n",
    "\n",
    "def prepare_dataset(data_path, test_size=0.2, validation_size=0.2):\n",
    "    \"\"\"Creates train, validation and test sets.\n",
    "    :param data_path (str): Path to json file containing data\n",
    "    :param test_size (flaot): Percentage of dataset used for testing\n",
    "    :param validation_size (float): Percentage of train set used for cross-validation\n",
    "    :return X_train (ndarray): Inputs for the train set\n",
    "    :return y_train (ndarray): Targets for the train set\n",
    "    :return X_validation (ndarray): Inputs9 for the validation set\n",
    "    :return y_validation (ndarray): Targets for the validation set\n",
    "    :return X_test (ndarray): Inputs for the test set\n",
    "    :return X_test (ndarray): Targets for the test set\n",
    "    \"\"\"\n",
    "    # load dataset\n",
    "    X, y = load_data(data_path)\n",
    "    # create train, validation, test split\n",
    "    X_train, X_test, y_train, y_test = train_test_split(X, y, test_size=test_size)\n",
    "    X_train, X_validation, y_train, y_validation = train_test_split(X_train, y_train, test_size=validation_size)\n",
    "    # add an axis to nd array\n",
    "    X_train = X_train[..., np.newaxis]\n",
    "    X_test = X_test[..., np.newaxis]\n",
    "    X_validation = X_validation[..., np.newaxis]\n",
    "    return X_train, y_train, X_validation, y_validation, X_test, y_test\n",
    "\n",
    "\n",
    "def build_model(input_shape, loss=\"sparse_categorical_crossentropy\", learning_rate=0.0001):\n",
    "    \"\"\"Build neural network using keras.\n",
    "    :param input_shape (tuple): Shape of array representing a sample train. E.g.: (44, 13, 1)\n",
    "    :param loss (str): Loss function to use\n",
    "    :param learning_rate (float):\n",
    "    :return model: TensorFlow model\n",
    "    \"\"\"\n",
    "    # build network architecture using convolutional layers\n",
    "    model = tf.keras.models.Sequential()\n",
    "    # 1st conv layer\n",
    "    model.add(tf.keras.layers.Conv2D(64, (3, 3), activation='relu', input_shape=input_shape,\n",
    "                                     kernel_regularizer=tf.keras.regularizers.l2(0.001)))\n",
    "    model.add(tf.keras.layers.BatchNormalization())\n",
    "    model.add(tf.keras.layers.MaxPooling2D((3, 3), strides=(2,2), padding='same'))\n",
    "    # 2nd conv layer\n",
    "    model.add(tf.keras.layers.Conv2D(32, (3, 3), activation='relu',\n",
    "                                     kernel_regularizer=tf.keras.regularizers.l2(0.001)))\n",
    "    model.add(tf.keras.layers.BatchNormalization())\n",
    "    model.add(tf.keras.layers.MaxPooling2D((3, 3), strides=(2,2), padding='same'))\n",
    "    # 3rd conv layer\n",
    "    model.add(tf.keras.layers.Conv2D(32, (2, 2), activation='relu',\n",
    "                                     kernel_regularizer=tf.keras.regularizers.l2(0.001)))\n",
    "    model.add(tf.keras.layers.BatchNormalization())\n",
    "    model.add(tf.keras.layers.MaxPooling2D((2, 2), strides=(2,2), padding='same'))\n",
    "    # flatten output and feed into dense layer\n",
    "    model.add(tf.keras.layers.Flatten())\n",
    "    model.add(tf.keras.layers.Dense(64, activation='relu'))\n",
    "    tf.keras.layers.Dropout(0.3)\n",
    "    # softmax output layer\n",
    "    model.add(tf.keras.layers.Dense(10, activation='softmax'))\n",
    "    optimiser = tf.optimizers.Adam(learning_rate=learning_rate)\n",
    "    # compile model\n",
    "    model.compile(optimizer=optimiser,\n",
    "                  loss=loss,\n",
    "                  metrics=[\"accuracy\"])\n",
    "    # print model parameters on console\n",
    "    model.summary()\n",
    "    return model\n",
    "\n",
    "\n",
    "def train_model(model, epochs, batch_size, patience, X_train, y_train, X_validation, y_validation):\n",
    "    \"\"\"Trains model\n",
    "    :param epochs (int): Num training epochs\n",
    "    :param batch_size (int): Samples per batch\n",
    "    :param patience (int): Num epochs to wait before early stop, if there isn't an improvement on accuracy\n",
    "    :param X_train (ndarray): Inputs for the train set\n",
    "    :param y_train (ndarray): Targets for the train set\n",
    "    :param X_validation (ndarray): Inputs for the validation set\n",
    "    :param y_validation (ndarray): Targets for the validation set\n",
    "    :return history: Training history\n",
    "    \"\"\"\n",
    "    earlystop_callback = tf.keras.callbacks.EarlyStopping(monitor=\"accuracy\", min_delta=0.001, patience=patience)\n",
    "    # train model\n",
    "    history = model.fit(X_train,\n",
    "                        y_train,\n",
    "                        epochs=epochs,\n",
    "                        batch_size=batch_size,\n",
    "                        validation_data=(X_validation, y_validation),\n",
    "                        callbacks=[earlystop_callback])\n",
    "    return history\n",
    "\n"
   ]
  },
  {
   "cell_type": "code",
   "execution_count": 3,
   "id": "d3aa8593",
   "metadata": {},
   "outputs": [],
   "source": [
    "DATA_PATH = \"miData3p.json\"\n",
    "SAVED_MODEL_PATH = \"model_final.h5\"\n",
    "EPOCHS = 10\n",
    "BATCH_SIZE = 32\n",
    "PATIENCE = 5\n",
    "LEARNING_RATE = 0.001#0.0001"
   ]
  },
  {
   "cell_type": "code",
   "execution_count": 4,
   "id": "a5ae8b2e",
   "metadata": {},
   "outputs": [
    {
     "name": "stdout",
     "output_type": "stream",
     "text": [
      "Training sets loaded!\n"
     ]
    }
   ],
   "source": [
    "# generate train, validation and test sets\n",
    "X_train, y_train, X_validation, y_validation, X_test, y_test = prepare_dataset(DATA_PATH)"
   ]
  },
  {
   "cell_type": "code",
   "execution_count": 5,
   "id": "4166a132",
   "metadata": {},
   "outputs": [
    {
     "name": "stdout",
     "output_type": "stream",
     "text": [
      "Model: \"sequential\"\n",
      "_________________________________________________________________\n",
      " Layer (type)                Output Shape              Param #   \n",
      "=================================================================\n",
      " conv2d (Conv2D)             (None, 42, 11, 64)        640       \n",
      "                                                                 \n",
      " batch_normalization (BatchN  (None, 42, 11, 64)       256       \n",
      " ormalization)                                                   \n",
      "                                                                 \n",
      " max_pooling2d (MaxPooling2D  (None, 21, 6, 64)        0         \n",
      " )                                                               \n",
      "                                                                 \n",
      " conv2d_1 (Conv2D)           (None, 19, 4, 32)         18464     \n",
      "                                                                 \n",
      " batch_normalization_1 (Batc  (None, 19, 4, 32)        128       \n",
      " hNormalization)                                                 \n",
      "                                                                 \n",
      " max_pooling2d_1 (MaxPooling  (None, 10, 2, 32)        0         \n",
      " 2D)                                                             \n",
      "                                                                 \n",
      " conv2d_2 (Conv2D)           (None, 9, 1, 32)          4128      \n",
      "                                                                 \n",
      " batch_normalization_2 (Batc  (None, 9, 1, 32)         128       \n",
      " hNormalization)                                                 \n",
      "                                                                 \n",
      " max_pooling2d_2 (MaxPooling  (None, 5, 1, 32)         0         \n",
      " 2D)                                                             \n",
      "                                                                 \n",
      " flatten (Flatten)           (None, 160)               0         \n",
      "                                                                 \n",
      " dense (Dense)               (None, 64)                10304     \n",
      "                                                                 \n",
      " dense_1 (Dense)             (None, 10)                650       \n",
      "                                                                 \n",
      "=================================================================\n",
      "Total params: 34,698\n",
      "Trainable params: 34,442\n",
      "Non-trainable params: 256\n",
      "_________________________________________________________________\n"
     ]
    }
   ],
   "source": [
    "# create network\n",
    "input_shape = (X_train.shape[1], X_train.shape[2], 1)\n",
    "model = build_model(input_shape, learning_rate=LEARNING_RATE)"
   ]
  },
  {
   "cell_type": "code",
   "execution_count": 6,
   "id": "f6270e15",
   "metadata": {
    "scrolled": true
   },
   "outputs": [],
   "source": [
    "# train network\n",
    "#history = train_model(model, EPOCHS, BATCH_SIZE, PATIENCE, X_train, y_train, X_validation, y_validation)"
   ]
  },
  {
   "cell_type": "code",
   "execution_count": 7,
   "id": "f5e9ecc8",
   "metadata": {},
   "outputs": [],
   "source": [
    "# plot accuracy/loss for training/validation set as a function of the epochs\n",
    "#plot_history(history)"
   ]
  },
  {
   "cell_type": "code",
   "execution_count": 8,
   "id": "d9c367a6",
   "metadata": {},
   "outputs": [],
   "source": [
    "#Cargar modelo\n",
    "model.load_weights('Model_final.h5')"
   ]
  },
  {
   "cell_type": "code",
   "execution_count": 9,
   "id": "7dac167c",
   "metadata": {},
   "outputs": [
    {
     "name": "stdout",
     "output_type": "stream",
     "text": [
      "66/66 [==============================] - 4s 8ms/step - loss: 0.1468 - accuracy: 0.9691\n",
      "\n",
      "Test loss: 0.14675837755203247, test accuracy: 96.90917730331421\n"
     ]
    }
   ],
   "source": [
    "# evaluate network on test set\n",
    "test_loss, test_acc = model.evaluate(X_test, y_test)\n",
    "print(\"\\nTest loss: {}, test accuracy: {}\".format(test_loss, 100*test_acc))"
   ]
  },
  {
   "cell_type": "code",
   "execution_count": 10,
   "id": "e1b38885",
   "metadata": {},
   "outputs": [],
   "source": [
    "# save model\n",
    "#model.save(SAVED_MODEL_PATH)"
   ]
  },
  {
   "cell_type": "code",
   "execution_count": 11,
   "id": "3516f2ce",
   "metadata": {},
   "outputs": [],
   "source": [
    "from sklearn.metrics import multilabel_confusion_matrix, accuracy_score, ConfusionMatrixDisplay, recall_score, f1_score, precision_score"
   ]
  },
  {
   "cell_type": "code",
   "execution_count": 12,
   "id": "1d8902f7",
   "metadata": {},
   "outputs": [
    {
     "name": "stdout",
     "output_type": "stream",
     "text": [
      "2103\n"
     ]
    }
   ],
   "source": [
    "print(len(X_test))\n",
    "preds=[]\n",
    "for num in range(1,2103+1):\n",
    "    y_pred=model.predict(X_test[num-1:num]) \n",
    "    predicted_index = np.argmax(y_pred)\n",
    "    preds.append(predicted_index)"
   ]
  },
  {
   "cell_type": "code",
   "execution_count": 18,
   "id": "70aeed9f",
   "metadata": {},
   "outputs": [
    {
     "name": "stdout",
     "output_type": "stream",
     "text": [
      "(2103,) (2103,)\n",
      "[[1384   49]\n",
      " [   9  661]]\n",
      "[[1403    5]\n",
      " [  46  649]]\n",
      "[[1354   11]\n",
      " [  10  728]]\n",
      "[0.9866, 0.9338, 0.9864] \n",
      " [0.9658, 0.9964, 0.9919] xd \n",
      "\n",
      "[0.9724, 0.9757, 0.99] \n",
      " [0, 0, 0] \n",
      " [0.9866, 0.9338, 0.9864] \n",
      " [0.931, 0.9924, 0.9851] \n",
      " [0.958, 0.9622, 0.9858]\n"
     ]
    },
    {
     "data": {
      "image/png": "[encoded data removed]",
      "text/plain": [
       "<Figure size 432x288 with 2 Axes>"
      ]
     },
     "metadata": {
      "needs_background": "light"
     },
     "output_type": "display_data"
    },
    {
     "data": {
      "image/png": "[encoded data removed]",
      "text/plain": [
       "<Figure size 432x288 with 2 Axes>"
      ]
     },
     "metadata": {
      "needs_background": "light"
     },
     "output_type": "display_data"
    },
    {
     "data": {
      "image/png": "[encoded data removed]",
      "text/plain": [
       "<Figure size 432x288 with 2 Axes>"
      ]
     },
     "metadata": {
      "needs_background": "light"
     },
     "output_type": "display_data"
    }
   ],
   "source": [
    "y_true=y_test.tolist()\n",
    "y_hat=preds \n",
    "M=multilabel_confusion_matrix(y_true,y_hat) # Evaluación con matrix de VP FP VN FN de las 4 variables\n",
    "print(np.shape(y_hat),np.shape(y_true))\n",
    "\n",
    "sen=[]\n",
    "esp=[]\n",
    "acc=[]\n",
    "loss=[]\n",
    "pre=[]\n",
    "rc=[]\n",
    "f1=[]\n",
    "    \n",
    "for clase in range(0,3):\n",
    "\n",
    "    k=M[clase]\n",
    "    print(k)\n",
    "    tn=k[0,0]\n",
    "    fn=k[1,0]\n",
    "    tp=k[1,1]\n",
    "    fp=k[0,1]\n",
    "    trp=tp/(tp+fn)#sensivity o true positive rate\n",
    "    frp=fp/(fp+tn)#1-especificity o false positive rate\n",
    "    accu=(tp+tn)/(tp+tn+fp+fn)\n",
    "    lo=0\n",
    "    recall=tp/(tp+fp)\n",
    "    presicion=tp/(tp+fn)\n",
    "    ff=(2*tp)/(2*tp+fp+fn)\n",
    "    recall=tp/(tp+fp)\n",
    "    \n",
    "    sen.append(round(trp,4))\n",
    "    esp.append(round(1-frp,4))\n",
    "    acc.append(round(accu,4))\n",
    "    loss.append(round(lo,4))\n",
    "    f1.append(round(ff,4))\n",
    "    rc.append(round(recall,4))\n",
    "    pre.append(round(presicion,4))\n",
    "    \n",
    "    M_polo=ConfusionMatrixDisplay(M[clase:clase+1][0])\n",
    "    M_polo.plot()\n",
    "    \n",
    "print(sen,'\\n', esp,'xd \\n')\n",
    "print(acc,'\\n', loss,'\\n',pre,'\\n',rc,'\\n',f1)\n"
   ]
  },
  {
   "cell_type": "code",
   "execution_count": 14,
   "id": "76754184",
   "metadata": {},
   "outputs": [
    {
     "name": "stdout",
     "output_type": "stream",
     "text": [
      "66/66 [==============================] - 0s 7ms/step - loss: 0.1468 - accuracy: 0.9691\n",
      "\n",
      "Test loss: 0.14675837755203247, test accuracy: 96.90917730331421\n"
     ]
    }
   ],
   "source": [
    "test_loss, test_acc = model.evaluate(X_test, y_test)\n",
    "print(\"\\nTest loss: {}, test accuracy: {}\".format(test_loss, 100*test_acc))"
   ]
  },
  {
   "cell_type": "code",
   "execution_count": 15,
   "id": "1494e6c5",
   "metadata": {},
   "outputs": [
    {
     "data": {
      "text/plain": [
       "0.9694852252839398"
      ]
     },
     "execution_count": 15,
     "metadata": {},
     "output_type": "execute_result"
    }
   ],
   "source": [
    "precision_score(y_true, y_hat, average='macro')"
   ]
  },
  {
   "cell_type": "code",
   "execution_count": 16,
   "id": "aed44080",
   "metadata": {},
   "outputs": [
    {
     "data": {
      "text/plain": [
       "0.9689433261060124"
      ]
     },
     "execution_count": 16,
     "metadata": {},
     "output_type": "execute_result"
    }
   ],
   "source": [
    "recall_score(y_true, y_hat, average='macro')"
   ]
  },
  {
   "cell_type": "code",
   "execution_count": 17,
   "id": "3388a3a5",
   "metadata": {},
   "outputs": [
    {
     "data": {
      "text/plain": [
       "0.968649074317765"
      ]
     },
     "execution_count": 17,
     "metadata": {},
     "output_type": "execute_result"
    }
   ],
   "source": [
    "f1_score(y_true, y_hat, average='macro')"
   ]
  }
 ],
 "metadata": {
  "kernelspec": {
   "display_name": "Python 3 (ipykernel)",
   "language": "python",
   "name": "python3"
  },
  "language_info": {
   "codemirror_mode": {
    "name": "ipython",
    "version": 3
   },
   "file_extension": ".py",
   "mimetype": "text/x-python",
   "name": "python",
   "nbconvert_exporter": "python",
   "pygments_lexer": "ipython3",
   "version": "3.9.12"
  }
 },
 "nbformat": 4,
 "nbformat_minor": 5
}
